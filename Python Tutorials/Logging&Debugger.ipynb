{
 "cells": [
  {
   "cell_type": "code",
   "execution_count": 1,
   "metadata": {},
   "outputs": [],
   "source": [
    "# Logging : In production level code we dont use print statemnets as they are stored in console and non traceable\n",
    "# so to track that we store those prints in another file called as log file which we can later see to find bugs\n",
    "# or backtrack\n",
    "\n",
    "import logging\n",
    "\n",
    "logging.basicConfig(filename=\"test.log\",level=logging.INFO)"
   ]
  },
  {
   "cell_type": "code",
   "execution_count": 2,
   "metadata": {},
   "outputs": [],
   "source": [
    "logging.info(\"this is test logging execution\")"
   ]
  },
  {
   "cell_type": "code",
   "execution_count": 3,
   "metadata": {},
   "outputs": [],
   "source": [
    "logging.info(\"another test\")"
   ]
  },
  {
   "cell_type": "code",
   "execution_count": 5,
   "metadata": {},
   "outputs": [],
   "source": [
    "# there are six levels of logging and once we define a level we cant acces feautures above that level\n",
    "#1. NOTSET\n",
    "#2. DEBUG\n",
    "#3. INFO\n",
    "#4. WARNING \n",
    "#5. ERROR \n",
    "#6. CRITICAL \n"
   ]
  },
  {
   "cell_type": "code",
   "execution_count": 6,
   "metadata": {},
   "outputs": [],
   "source": [
    "# this is not logged as we have mentioned the level as info, but below it we can log\n",
    "logging.debug(\"debug message\")"
   ]
  },
  {
   "cell_type": "code",
   "execution_count": 7,
   "metadata": {},
   "outputs": [],
   "source": [
    "logging.warning(\"warning msg\")"
   ]
  },
  {
   "cell_type": "code",
   "execution_count": 8,
   "metadata": {},
   "outputs": [],
   "source": [
    "logging.error(\"error msg\")"
   ]
  },
  {
   "cell_type": "code",
   "execution_count": 9,
   "metadata": {},
   "outputs": [],
   "source": [
    "logging.critical(\"critical msg\")"
   ]
  },
  {
   "cell_type": "code",
   "execution_count": 12,
   "metadata": {},
   "outputs": [],
   "source": [
    "logging.shutdown()"
   ]
  },
  {
   "cell_type": "code",
   "execution_count": 1,
   "metadata": {},
   "outputs": [],
   "source": [
    "# lets look at a logging structure with date time stamp\n",
    "import logging\n",
    "\n",
    "logging.basicConfig(filename=\"test1.log\",level=logging.DEBUG,format = '%(asctime)s %(message)s')"
   ]
  },
  {
   "cell_type": "code",
   "execution_count": 3,
   "metadata": {},
   "outputs": [],
   "source": [
    "logging.info(\"info msg\")\n",
    "logging.error(\"error msg\")"
   ]
  },
  {
   "cell_type": "code",
   "execution_count": 4,
   "metadata": {},
   "outputs": [],
   "source": [
    "logging.shutdown()"
   ]
  },
  {
   "cell_type": "code",
   "execution_count": 1,
   "metadata": {},
   "outputs": [],
   "source": [
    "# lets look at another one\n",
    "import logging\n",
    "logging.basicConfig(filename=\"test2.log\",level=logging.DEBUG,format = '%(asctime)s %(name)s %(levelname)s %(message)s' )"
   ]
  },
  {
   "cell_type": "code",
   "execution_count": 2,
   "metadata": {},
   "outputs": [],
   "source": [
    "logging.info(\"info message\")\n",
    "logging.error(\"error message\")"
   ]
  },
  {
   "cell_type": "code",
   "execution_count": 8,
   "metadata": {},
   "outputs": [],
   "source": [
    "# lets see a small example on how to use logging in code\n",
    "\n",
    "# lets take a list and seperate the elements as per there types\n",
    "\n",
    "\n",
    "l  = [1,2,3,4,[5,6,7],\"Abhi\",\"Krish\"]\n",
    "\n",
    "list_int = []\n",
    "list_str = []\n",
    "\n",
    "for i in l:\n",
    "    logging.info(\"we are iterating through our list and our local var is i\" + str(l))\n",
    "    if type(i) == list:\n",
    "        logging.info(\"i am inside if statement and checking list type \" +str(i))\n",
    "        for j in i:\n",
    "            logging.info(\"i am in another for loop for list inside list\" +str(j))\n",
    "            if type(j) == int:\n",
    "                logging.info(\"i am inside if statement\")\n",
    "                list_int.append(j)\n",
    "    elif type(i) == int:\n",
    "        list_int.append(i)\n",
    "    else :\n",
    "        if type(i) == str:\n",
    "            list_str.append(i)\n",
    "logging.info(\"My final result for int is {l1} and str is {l2}\".format(l1 = list_int,l2 = list_str))"
   ]
  },
  {
   "cell_type": "code",
   "execution_count": 4,
   "metadata": {},
   "outputs": [
    {
     "data": {
      "text/plain": [
       "[1, 2, 3, 4, 5, 6, 7]"
      ]
     },
     "execution_count": 4,
     "metadata": {},
     "output_type": "execute_result"
    }
   ],
   "source": [
    "list_int"
   ]
  },
  {
   "cell_type": "code",
   "execution_count": 5,
   "metadata": {},
   "outputs": [
    {
     "data": {
      "text/plain": [
       "['Abhi', 'Krish']"
      ]
     },
     "execution_count": 5,
     "metadata": {},
     "output_type": "execute_result"
    }
   ],
   "source": [
    "list_str"
   ]
  },
  {
   "cell_type": "code",
   "execution_count": 9,
   "metadata": {},
   "outputs": [],
   "source": [
    "import os\n",
    "os.remove(\"test.log\")\n",
    "os.remove(\"test1.log\")\n",
    "os.remove(\"test2.log\")"
   ]
  },
  {
   "cell_type": "code",
   "execution_count": null,
   "metadata": {},
   "outputs": [],
   "source": []
  }
 ],
 "metadata": {
  "kernelspec": {
   "display_name": "Python 3",
   "language": "python",
   "name": "python3"
  },
  "language_info": {
   "codemirror_mode": {
    "name": "ipython",
    "version": 3
   },
   "file_extension": ".py",
   "mimetype": "text/x-python",
   "name": "python",
   "nbconvert_exporter": "python",
   "pygments_lexer": "ipython3",
   "version": "3.11.2"
  },
  "orig_nbformat": 4,
  "vscode": {
   "interpreter": {
    "hash": "aee8b7b246df8f9039afb4144a1f6fd8d2ca17a180786b69acc140d282b71a49"
   }
  }
 },
 "nbformat": 4,
 "nbformat_minor": 2
}
