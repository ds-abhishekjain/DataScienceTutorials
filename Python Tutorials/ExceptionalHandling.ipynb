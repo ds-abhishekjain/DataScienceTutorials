{
 "cells": [
  {
   "cell_type": "code",
   "execution_count": 1,
   "metadata": {},
   "outputs": [
    {
     "name": "stdout",
     "output_type": "stream",
     "text": [
      "This is my except block  [Errno 2] No such file or directory: 'test.txt'\n"
     ]
    },
    {
     "data": {
      "text/plain": [
       "9"
      ]
     },
     "execution_count": 1,
     "metadata": {},
     "output_type": "execute_result"
    }
   ],
   "source": [
    "# Exception Handling using Try-Except block\n",
    "\n",
    "try:\n",
    "#first line of code\n",
    "    f = open(\"test.txt\",\"r\")\n",
    "except Exception as e:\n",
    "    print(\"This is my except block \", e)\n",
    "#second line of code\n",
    "a = 4+5\n",
    "a\n",
    "\n",
    "# as we see there is a error in first line , but still second line is executes, whereas if we didnt apply the \n",
    "# try except block, second line of code wouldnt have executed as python runs code line by line\n"
   ]
  },
  {
   "cell_type": "code",
   "execution_count": 2,
   "metadata": {},
   "outputs": [
    {
     "name": "stdout",
     "output_type": "stream",
     "text": [
      "This will be executed once your try block is executed without error\n"
     ]
    }
   ],
   "source": [
    "# Lets see another example where there is no error\n",
    "\n",
    "# here except block is not executed as there wasnt any error\n",
    "\n",
    "\n",
    "try:\n",
    "    f = open(\"test.txt\",\"w\")\n",
    "    f.write(\"write into my file\")\n",
    "except Exception as e:\n",
    "    print(\"This is my except block \", e)\n",
    "else:\n",
    "    f.close()\n",
    "    print(\"This will be executed once your try block is executed without error\")"
   ]
  },
  {
   "cell_type": "code",
   "execution_count": 3,
   "metadata": {},
   "outputs": [
    {
     "name": "stdout",
     "output_type": "stream",
     "text": [
      "This is my except block  not writable\n"
     ]
    }
   ],
   "source": [
    "# lets see what happens to else block when there is an error in try block\n",
    "\n",
    "# here except block is executed and else was never executed\n",
    "\n",
    "try:\n",
    "    f = open(\"test.txt\",\"r\")\n",
    "    f.write(\"write into my file\")\n",
    "except Exception as e:\n",
    "    print(\"This is my except block \", e)\n",
    "else:\n",
    "    f.close()\n",
    "    print(\"This will be executed once your try block is executed without error\")"
   ]
  },
  {
   "cell_type": "code",
   "execution_count": 4,
   "metadata": {},
   "outputs": [
    {
     "name": "stdout",
     "output_type": "stream",
     "text": [
      "this is my finally execution\n"
     ]
    },
    {
     "ename": "UnsupportedOperation",
     "evalue": "not writable",
     "output_type": "error",
     "traceback": [
      "\u001b[0;31m---------------------------------------------------------------------------\u001b[0m",
      "\u001b[0;31mUnsupportedOperation\u001b[0m                      Traceback (most recent call last)",
      "Cell \u001b[0;32mIn[4], line 8\u001b[0m\n\u001b[1;32m      6\u001b[0m \u001b[39mtry\u001b[39;00m:\n\u001b[1;32m      7\u001b[0m     f \u001b[39m=\u001b[39m \u001b[39mopen\u001b[39m(\u001b[39m\"\u001b[39m\u001b[39mtest.txt\u001b[39m\u001b[39m\"\u001b[39m,\u001b[39m\"\u001b[39m\u001b[39mr\u001b[39m\u001b[39m\"\u001b[39m)\n\u001b[0;32m----> 8\u001b[0m     f\u001b[39m.\u001b[39;49mwrite(\u001b[39m\"\u001b[39;49m\u001b[39mwrite into my file\u001b[39;49m\u001b[39m\"\u001b[39;49m)\n\u001b[1;32m      9\u001b[0m \u001b[39mfinally\u001b[39;00m:\n\u001b[1;32m     10\u001b[0m     \u001b[39mprint\u001b[39m(\u001b[39m\"\u001b[39m\u001b[39mthis is my finally execution\u001b[39m\u001b[39m\"\u001b[39m)\n",
      "\u001b[0;31mUnsupportedOperation\u001b[0m: not writable"
     ]
    }
   ],
   "source": [
    "# lets look at finally block\n",
    "# finally block executes the code no matter what. Generally code like db connections are kept there so that \n",
    "# they execute no matter what\n",
    "\n",
    "\n",
    "try:\n",
    "    f = open(\"test.txt\",\"r\")\n",
    "    f.write(\"write into my file\")\n",
    "finally:\n",
    "    print(\"this is my finally execution\")"
   ]
  },
  {
   "cell_type": "code",
   "execution_count": 6,
   "metadata": {},
   "outputs": [],
   "source": [
    "# Custom Exception Handling: Exception handling used when there is no exception in the exception class and we want \n",
    "# to create our own custom exception handling\n",
    "\n",
    "# for example age in negative wont be directly captured by exception class so we need to create custom handling\n",
    "\n",
    "age = int(input(\"Enter your age: \" ))"
   ]
  },
  {
   "cell_type": "code",
   "execution_count": 17,
   "metadata": {},
   "outputs": [
    {
     "name": "stdout",
     "output_type": "stream",
     "text": [
      "Entered age is very high\n"
     ]
    }
   ],
   "source": [
    "class validate(Exception):\n",
    "    def __init__(self, msg):\n",
    "        self.msg = msg\n",
    "\n",
    "def validateage(age):\n",
    "    if age < 0:\n",
    "        raise validate(\"Entered age is negative\")\n",
    "    elif age > 200:\n",
    "        raise validate(\"Entered age is very high\")\n",
    "    else:\n",
    "        print(\"Age is valid\")\n",
    "\n",
    "try:\n",
    "    age = int(input(\"Enter the age: \"))\n",
    "    validateage(age)\n",
    "except validate as e:\n",
    "    print(e)\n"
   ]
  },
  {
   "cell_type": "code",
   "execution_count": 18,
   "metadata": {},
   "outputs": [
    {
     "name": "stdout",
     "output_type": "stream",
     "text": [
      "division by zero\n"
     ]
    }
   ],
   "source": [
    "# List of General Use Exception\n",
    "\n",
    "try:\n",
    "    a = 20/0\n",
    "except ZeroDivisionError as e:\n",
    "    print(e)"
   ]
  },
  {
   "cell_type": "code",
   "execution_count": 19,
   "metadata": {},
   "outputs": [
    {
     "name": "stdout",
     "output_type": "stream",
     "text": [
      "invalid literal for int() with base 10: 'abhi'\n"
     ]
    }
   ],
   "source": [
    "try:\n",
    "    int(\"abhi\")\n",
    "except (ValueError,TypeError) as e:\n",
    "    print(e)\n"
   ]
  },
  {
   "cell_type": "code",
   "execution_count": 20,
   "metadata": {},
   "outputs": [
    {
     "name": "stdout",
     "output_type": "stream",
     "text": [
      "No module named 'abhi'\n"
     ]
    }
   ],
   "source": [
    "try:\n",
    "    import abhi\n",
    "except ImportError as e:\n",
    "    print(e)"
   ]
  },
  {
   "cell_type": "code",
   "execution_count": 22,
   "metadata": {},
   "outputs": [
    {
     "name": "stdout",
     "output_type": "stream",
     "text": [
      "'key2'\n"
     ]
    }
   ],
   "source": [
    "try:\n",
    "    d = {\"key\":\"sudh\",1:[2,3,4,5]}\n",
    "    print(d[\"key2\"])\n",
    "except KeyError as e:\n",
    "    print(e)"
   ]
  },
  {
   "cell_type": "code",
   "execution_count": 23,
   "metadata": {},
   "outputs": [
    {
     "name": "stdout",
     "output_type": "stream",
     "text": [
      "'str' object has no attribute 'test'\n"
     ]
    }
   ],
   "source": [
    "try:\n",
    "    \"abhi\".test()\n",
    "except AttributeError as e:\n",
    "    print(e)"
   ]
  },
  {
   "cell_type": "code",
   "execution_count": 24,
   "metadata": {},
   "outputs": [
    {
     "name": "stdout",
     "output_type": "stream",
     "text": [
      "list index out of range\n"
     ]
    }
   ],
   "source": [
    "try:\n",
    "    l = [2,3,45,6]\n",
    "    l[6]\n",
    "except IndexError as e:\n",
    "    print(e)"
   ]
  },
  {
   "cell_type": "code",
   "execution_count": 25,
   "metadata": {},
   "outputs": [
    {
     "name": "stdout",
     "output_type": "stream",
     "text": [
      "unsupported operand type(s) for +: 'int' and 'str'\n"
     ]
    }
   ],
   "source": [
    "try:\n",
    "    123 + \"abhi\"\n",
    "except TypeError as e:\n",
    "    print(e)"
   ]
  },
  {
   "cell_type": "code",
   "execution_count": 26,
   "metadata": {},
   "outputs": [
    {
     "name": "stdout",
     "output_type": "stream",
     "text": [
      "[Errno 2] No such file or directory: 'text.txt'\n"
     ]
    }
   ],
   "source": [
    "try:\n",
    "    with open(\"text.txt\",\"r\") as f:\n",
    "        test = f.read()\n",
    "except FileNotFoundError as e:\n",
    "    print(e)"
   ]
  },
  {
   "cell_type": "code",
   "execution_count": 27,
   "metadata": {},
   "outputs": [
    {
     "name": "stdout",
     "output_type": "stream",
     "text": [
      "[Errno 2] No such file or directory: 'text.txt'\n"
     ]
    }
   ],
   "source": [
    "# it is always a good practice to put exception class at the end and not the begining\n",
    "try:\n",
    "    with open(\"text.txt\",\"r\") as f:\n",
    "        test = f.read()\n",
    "except Exception as e: # here as exception is super class it will handle the error and then if it can it will be passed on to filenotfound\n",
    "    print(e)\n",
    "except FileNotFoundError as e:\n",
    "    print(\"i wont reach here\",e)"
   ]
  },
  {
   "cell_type": "code",
   "execution_count": 28,
   "metadata": {},
   "outputs": [],
   "source": [
    "# Best practice for exception handling\n",
    "\n",
    "# Use always specific exception\n",
    "# print always a proper message\n",
    "# always try to log your error\n",
    "# always avoid to write a multiple exceptional handling\n",
    "# document all the error\n",
    "# Cleanup all the resources\n",
    "\n",
    "import logging\n",
    "logging.basicConfig(filename=\"Exception.log\",level= logging.ERROR)\n",
    "try:\n",
    "    10/0\n",
    "except ZeroDivisionError as e:\n",
    "    logging.error(\"Trying to handle a zero division error {}\".format(e))\n"
   ]
  },
  {
   "cell_type": "code",
   "execution_count": 30,
   "metadata": {},
   "outputs": [],
   "source": [
    "# another example\n",
    "import logging\n",
    "logging.basicConfig(filename=\"Exception.log\",level= logging.ERROR)\n",
    "try:\n",
    "    with open(\"test.txt\",\"w\") as f:\n",
    "        f.write(\"Writing a message\")\n",
    "except FileNotFoundError as e:\n",
    "    logging.error(\"Trying to handle a file not found error {}\".format(e))\n",
    "finally:\n",
    "    f.close()\n",
    "    logging.error(\"file was closed \")"
   ]
  },
  {
   "cell_type": "code",
   "execution_count": 31,
   "metadata": {},
   "outputs": [],
   "source": [
    "# delete files \n",
    "import os\n",
    "os.remove(\"Exception.log\")\n",
    "os.remove(\"test.txt\")"
   ]
  },
  {
   "cell_type": "code",
   "execution_count": null,
   "metadata": {},
   "outputs": [],
   "source": []
  }
 ],
 "metadata": {
  "kernelspec": {
   "display_name": "Python 3",
   "language": "python",
   "name": "python3"
  },
  "language_info": {
   "codemirror_mode": {
    "name": "ipython",
    "version": 3
   },
   "file_extension": ".py",
   "mimetype": "text/x-python",
   "name": "python",
   "nbconvert_exporter": "python",
   "pygments_lexer": "ipython3",
   "version": "3.11.2"
  },
  "orig_nbformat": 4,
  "vscode": {
   "interpreter": {
    "hash": "aee8b7b246df8f9039afb4144a1f6fd8d2ca17a180786b69acc140d282b71a49"
   }
  }
 },
 "nbformat": 4,
 "nbformat_minor": 2
}
