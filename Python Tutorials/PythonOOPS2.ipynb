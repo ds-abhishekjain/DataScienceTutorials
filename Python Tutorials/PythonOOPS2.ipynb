{
 "cells": [
  {
   "cell_type": "code",
   "execution_count": 5,
   "metadata": {},
   "outputs": [],
   "source": [
    "## Class Methods:\n",
    "\n",
    "# Lets Use init method first\n",
    "\n",
    "class University():\n",
    "    def __init__(self,department,hod):\n",
    "        self.department = department\n",
    "        self.hod = hod\n",
    "    def univ_details(self):\n",
    "        print(self.department,self.hod)"
   ]
  },
  {
   "cell_type": "code",
   "execution_count": 6,
   "metadata": {},
   "outputs": [],
   "source": [
    "# in order to acesss the methods of class we create an object\n",
    "univ_obj = University('CSE','AK Goyal')"
   ]
  },
  {
   "cell_type": "code",
   "execution_count": 8,
   "metadata": {},
   "outputs": [
    {
     "data": {
      "text/plain": [
       "'CSE'"
      ]
     },
     "execution_count": 8,
     "metadata": {},
     "output_type": "execute_result"
    }
   ],
   "source": [
    "# now we can acess the mothods of class using this instance/object\n",
    "univ_obj.department"
   ]
  },
  {
   "cell_type": "code",
   "execution_count": 9,
   "metadata": {},
   "outputs": [
    {
     "data": {
      "text/plain": [
       "'AK Goyal'"
      ]
     },
     "execution_count": 9,
     "metadata": {},
     "output_type": "execute_result"
    }
   ],
   "source": [
    "univ_obj.hod"
   ]
  },
  {
   "cell_type": "code",
   "execution_count": 6,
   "metadata": {},
   "outputs": [
    {
     "data": {
      "text/plain": [
       "<__main__.Clients at 0x10d0e2310>"
      ]
     },
     "execution_count": 6,
     "metadata": {},
     "output_type": "execute_result"
    }
   ],
   "source": [
    "# in order to acess methods of a class without creating any object , we use class methods\n",
    "# we decorate method with class method to directly acess it without creating any object\n",
    "\n",
    "class Clients():\n",
    "    def __init__(self,name,location):\n",
    "        self.name = name\n",
    "        self.location = location\n",
    "    @classmethod\n",
    "    def details(cls,name,location):\n",
    "        return cls(name,location)\n",
    "\n",
    "    def Client_Details(self):\n",
    "        print(self.name,self.location)\n",
    "\n",
    "Clients.details(\"Indian Footwear\",\"Punjab,Ludhiana\")"
   ]
  },
  {
   "cell_type": "code",
   "execution_count": 7,
   "metadata": {},
   "outputs": [
    {
     "data": {
      "text/plain": [
       "'Indian Footwear'"
      ]
     },
     "execution_count": 7,
     "metadata": {},
     "output_type": "execute_result"
    }
   ],
   "source": [
    "# We will access the function of class without creating any object and using init, this is the basic \n",
    "# concept of overloading and we can directly access the functions of class now using inbuilt decorator\n",
    "# @classmethod\n",
    "\n",
    "cd = Clients.details(\"Indian Footwear\",\"Punjab,Ludhiana\")\n",
    "cd.name"
   ]
  },
  {
   "cell_type": "code",
   "execution_count": 8,
   "metadata": {},
   "outputs": [
    {
     "name": "stdout",
     "output_type": "stream",
     "text": [
      "Indian Footwear Punjab,Ludhiana\n"
     ]
    }
   ],
   "source": [
    "cd.Client_Details()"
   ]
  },
  {
   "cell_type": "code",
   "execution_count": 10,
   "metadata": {},
   "outputs": [],
   "source": [
    "# Lets play around with it a bit more\n",
    "\n",
    "class Clients2():\n",
    "\n",
    "    mobile_number = 99999999\n",
    "\n",
    "    def __init__(self,name,location):\n",
    "        self.name = name\n",
    "        self.location = location\n",
    "\n",
    "    @classmethod\n",
    "    def change_mobileNum(cls,mobile):\n",
    "        Clients2.mobile_number = mobile\n",
    "\n",
    "    @classmethod\n",
    "    def details(cls,name,location):\n",
    "        return cls(name,location)\n",
    "\n",
    "    def Client_Details(self):\n",
    "        print(self.name,self.location,Clients2.mobile_number)"
   ]
  },
  {
   "cell_type": "code",
   "execution_count": 11,
   "metadata": {},
   "outputs": [
    {
     "data": {
      "text/plain": [
       "99999999"
      ]
     },
     "execution_count": 11,
     "metadata": {},
     "output_type": "execute_result"
    }
   ],
   "source": [
    "Clients2.mobile_number"
   ]
  },
  {
   "cell_type": "code",
   "execution_count": 12,
   "metadata": {},
   "outputs": [
    {
     "data": {
      "text/plain": [
       "888888888"
      ]
     },
     "execution_count": 12,
     "metadata": {},
     "output_type": "execute_result"
    }
   ],
   "source": [
    "Clients2.change_mobileNum(888888888)\n",
    "Clients2.mobile_number"
   ]
  },
  {
   "cell_type": "code",
   "execution_count": 13,
   "metadata": {},
   "outputs": [],
   "source": [
    "cd2 = Clients2.details(\"Kahdim Fw\",\"Kolkata\")"
   ]
  },
  {
   "cell_type": "code",
   "execution_count": 14,
   "metadata": {},
   "outputs": [
    {
     "name": "stdout",
     "output_type": "stream",
     "text": [
      "Kahdim Fw Kolkata 888888888\n"
     ]
    }
   ],
   "source": [
    "cd2.Client_Details()"
   ]
  },
  {
   "cell_type": "code",
   "execution_count": 19,
   "metadata": {},
   "outputs": [],
   "source": [
    "# Now lets see how can we access an external function which is not associated with the class ,\n",
    "# yet we can access it using classmethod \n",
    "\n",
    "def client_forte(cls,forte):\n",
    "    print(forte)\n",
    "\n",
    "Clients2.client_forte = classmethod(client_forte)"
   ]
  },
  {
   "cell_type": "code",
   "execution_count": 20,
   "metadata": {},
   "outputs": [
    {
     "name": "stdout",
     "output_type": "stream",
     "text": [
      "Sports Shoe\n"
     ]
    }
   ],
   "source": [
    "Clients2.client_forte(\"Sports Shoe\") "
   ]
  },
  {
   "cell_type": "code",
   "execution_count": 22,
   "metadata": {},
   "outputs": [],
   "source": [
    "# Now lets see how can we delete method of any class\n",
    "\n",
    "class Clients3():\n",
    "\n",
    "    mobile_number = 99999999\n",
    "\n",
    "    def __init__(self,name,location):\n",
    "        self.name = name\n",
    "        self.location = location\n",
    "\n",
    "    @classmethod\n",
    "    def change_mobileNum(cls,mobile):\n",
    "        Clients2.mobile_number = mobile\n",
    "\n",
    "    @classmethod\n",
    "    def details(cls,name,location):\n",
    "        return cls(name,location)\n",
    "\n",
    "    def Client_Details(self):\n",
    "        print(self.name,self.location,Clients2.mobile_number)"
   ]
  },
  {
   "cell_type": "code",
   "execution_count": 23,
   "metadata": {},
   "outputs": [],
   "source": [
    "del Clients3.change_mobileNum"
   ]
  },
  {
   "cell_type": "code",
   "execution_count": 24,
   "metadata": {},
   "outputs": [
    {
     "ename": "AttributeError",
     "evalue": "type object 'Clients3' has no attribute 'change_mobileNum'",
     "output_type": "error",
     "traceback": [
      "\u001b[0;31m---------------------------------------------------------------------------\u001b[0m",
      "\u001b[0;31mAttributeError\u001b[0m                            Traceback (most recent call last)",
      "Cell \u001b[0;32mIn[24], line 1\u001b[0m\n\u001b[0;32m----> 1\u001b[0m Clients3\u001b[39m.\u001b[39;49mchange_mobileNum(\u001b[39m\"\u001b[39m\u001b[39m9899999\u001b[39m\u001b[39m\"\u001b[39m)\n",
      "\u001b[0;31mAttributeError\u001b[0m: type object 'Clients3' has no attribute 'change_mobileNum'"
     ]
    }
   ],
   "source": [
    "# as we have delted the method we can no more see any changes and thus an error occurs when we try to change it\n",
    "\n",
    "Clients3.change_mobileNum(\"9899999\")"
   ]
  },
  {
   "cell_type": "code",
   "execution_count": 25,
   "metadata": {},
   "outputs": [],
   "source": [
    "# we can also do the same using delattr\n",
    "\n",
    "delattr(Clients3,\"Client_Details\")"
   ]
  },
  {
   "cell_type": "code",
   "execution_count": 26,
   "metadata": {},
   "outputs": [
    {
     "ename": "AttributeError",
     "evalue": "type object 'Clients3' has no attribute 'Client_Details'",
     "output_type": "error",
     "traceback": [
      "\u001b[0;31m---------------------------------------------------------------------------\u001b[0m",
      "\u001b[0;31mAttributeError\u001b[0m                            Traceback (most recent call last)",
      "Cell \u001b[0;32mIn[26], line 1\u001b[0m\n\u001b[0;32m----> 1\u001b[0m Clients3\u001b[39m.\u001b[39;49mClient_Details\n",
      "\u001b[0;31mAttributeError\u001b[0m: type object 'Clients3' has no attribute 'Client_Details'"
     ]
    }
   ],
   "source": [
    "# again an error as it is now delted\n",
    "Clients3.Client_Details"
   ]
  },
  {
   "cell_type": "code",
   "execution_count": 7,
   "metadata": {},
   "outputs": [],
   "source": [
    "# Static Methods : It is a method used on function of a class to directly call it without creating any object of \n",
    "# the class, it is different from class method as here we dont need to bind it to the class as well. We can\n",
    "# directly call the function. It is usually used where we dont want to create multiple instances of a class\n",
    "# such as creating utilities and database connections\n",
    "\n",
    "class myntra_customer():\n",
    "    def customer_details(self,name,cust_id,email,mobile_num):\n",
    "        print(name,cust_id,email,mobile_num)\n",
    "    @staticmethod\n",
    "    def interested_categories(list_categories):\n",
    "        print(list_categories) \n",
    "    def category(self,interested_list_categories):\n",
    "        print(interested_list_categories)\n"
   ]
  },
  {
   "cell_type": "code",
   "execution_count": 2,
   "metadata": {},
   "outputs": [
    {
     "name": "stdout",
     "output_type": "stream",
     "text": [
      "['men', 'acessories']\n"
     ]
    }
   ],
   "source": [
    "myntra_customer.interested_categories(['men','acessories'])"
   ]
  },
  {
   "cell_type": "code",
   "execution_count": 9,
   "metadata": {},
   "outputs": [],
   "source": [
    "# now we are creating objects for diff customers\n",
    "cust1 = myntra_customer()"
   ]
  },
  {
   "cell_type": "code",
   "execution_count": 4,
   "metadata": {},
   "outputs": [],
   "source": [
    "cust2 = myntra_customer()"
   ]
  },
  {
   "cell_type": "code",
   "execution_count": 5,
   "metadata": {},
   "outputs": [],
   "source": [
    "cust3 = myntra_customer()"
   ]
  },
  {
   "cell_type": "code",
   "execution_count": 10,
   "metadata": {},
   "outputs": [
    {
     "name": "stdout",
     "output_type": "stream",
     "text": [
      "['women', 'bags']\n"
     ]
    }
   ],
   "source": [
    "# now for each customer a diff copy of the class is created and now we have to create diff interested category list\n",
    "# for every customer but it could be same for multiple clients so creating a self binded category function\n",
    "# is not a good idea, sowe have created a static method that can be accesed directly without creating object\n",
    "\n",
    "cust1.category(['women','bags']) "
   ]
  },
  {
   "cell_type": "code",
   "execution_count": 17,
   "metadata": {},
   "outputs": [],
   "source": [
    "# lets see how we can use static method inside other class methods and funtion\n",
    "\n",
    "class ds_classes():\n",
    "    def student_details(self,name,email):\n",
    "        print(name,email)\n",
    "    \n",
    "    @staticmethod\n",
    "    def mentor_mailID(list_mentor_mailID):\n",
    "        print(list_mentor_mailID)\n",
    "\n",
    "    #static method\n",
    "    @staticmethod\n",
    "    def mentor_list(list_mentor):\n",
    "        ds_classes.mentor_mailID(['abhi@gmail.com','chatgpt@gmail.com'])\n",
    "        print(list_mentor)\n",
    "\n",
    "    #classmethod\n",
    "    @classmethod\n",
    "    def class_name(cls):\n",
    "        cls.mentor_list(['Abhi','ChatGPT'])\n",
    "\n",
    "    #instance method\n",
    "    def mentor(self,list_mentor):\n",
    "        self.mentor_list(['Krish','Sudh'])\n",
    "        print(list_mentor)\n"
   ]
  },
  {
   "cell_type": "code",
   "execution_count": 12,
   "metadata": {},
   "outputs": [
    {
     "name": "stdout",
     "output_type": "stream",
     "text": [
      "['Abhi', 'ChatGPT']\n"
     ]
    }
   ],
   "source": [
    "ds_classes.class_name()"
   ]
  },
  {
   "cell_type": "code",
   "execution_count": 14,
   "metadata": {},
   "outputs": [
    {
     "name": "stdout",
     "output_type": "stream",
     "text": [
      "['abhi@gmail.com', 'chatgpt@gmail.com']\n",
      "['Abhi', 'CHATGPT']\n"
     ]
    }
   ],
   "source": [
    "ds_classes.mentor_list(['Abhi','CHATGPT'])"
   ]
  },
  {
   "cell_type": "code",
   "execution_count": 16,
   "metadata": {},
   "outputs": [],
   "source": [
    "dsc = ds_classes()"
   ]
  },
  {
   "cell_type": "code",
   "execution_count": 18,
   "metadata": {},
   "outputs": [
    {
     "name": "stdout",
     "output_type": "stream",
     "text": [
      "['abhi@gmail.com', 'chatgpt@gmail.com']\n",
      "['Krish', 'Sudh']\n",
      "['krish', 'sudh']\n"
     ]
    }
   ],
   "source": [
    "dsc.mentor(['krish','sudh'])"
   ]
  },
  {
   "cell_type": "code",
   "execution_count": 19,
   "metadata": {},
   "outputs": [
    {
     "data": {
      "text/plain": [
       "['__abs__',\n",
       " '__add__',\n",
       " '__and__',\n",
       " '__bool__',\n",
       " '__ceil__',\n",
       " '__class__',\n",
       " '__delattr__',\n",
       " '__dir__',\n",
       " '__divmod__',\n",
       " '__doc__',\n",
       " '__eq__',\n",
       " '__float__',\n",
       " '__floor__',\n",
       " '__floordiv__',\n",
       " '__format__',\n",
       " '__ge__',\n",
       " '__getattribute__',\n",
       " '__getnewargs__',\n",
       " '__getstate__',\n",
       " '__gt__',\n",
       " '__hash__',\n",
       " '__index__',\n",
       " '__init__',\n",
       " '__init_subclass__',\n",
       " '__int__',\n",
       " '__invert__',\n",
       " '__le__',\n",
       " '__lshift__',\n",
       " '__lt__',\n",
       " '__mod__',\n",
       " '__mul__',\n",
       " '__ne__',\n",
       " '__neg__',\n",
       " '__new__',\n",
       " '__or__',\n",
       " '__pos__',\n",
       " '__pow__',\n",
       " '__radd__',\n",
       " '__rand__',\n",
       " '__rdivmod__',\n",
       " '__reduce__',\n",
       " '__reduce_ex__',\n",
       " '__repr__',\n",
       " '__rfloordiv__',\n",
       " '__rlshift__',\n",
       " '__rmod__',\n",
       " '__rmul__',\n",
       " '__ror__',\n",
       " '__round__',\n",
       " '__rpow__',\n",
       " '__rrshift__',\n",
       " '__rshift__',\n",
       " '__rsub__',\n",
       " '__rtruediv__',\n",
       " '__rxor__',\n",
       " '__setattr__',\n",
       " '__sizeof__',\n",
       " '__str__',\n",
       " '__sub__',\n",
       " '__subclasshook__',\n",
       " '__truediv__',\n",
       " '__trunc__',\n",
       " '__xor__',\n",
       " 'as_integer_ratio',\n",
       " 'bit_count',\n",
       " 'bit_length',\n",
       " 'conjugate',\n",
       " 'denominator',\n",
       " 'from_bytes',\n",
       " 'imag',\n",
       " 'numerator',\n",
       " 'real',\n",
       " 'to_bytes']"
      ]
     },
     "execution_count": 19,
     "metadata": {},
     "output_type": "execute_result"
    }
   ],
   "source": [
    "# Special (Magic / Dunder) Methods : Magic methods in Python are the special methods that start and end with\n",
    "# the double underscores. They are also called dunder methods. Magic methods are not meant to be invoked \n",
    "# directly by you, but the invocation happens internally from the class on a certain action.\n",
    "\n",
    "\n",
    "# we can see dunder menthod by using dir\n",
    "dir(int)\n",
    "\n"
   ]
  },
  {
   "cell_type": "code",
   "execution_count": 20,
   "metadata": {},
   "outputs": [
    {
     "data": {
      "text/plain": [
       "['__add__',\n",
       " '__class__',\n",
       " '__contains__',\n",
       " '__delattr__',\n",
       " '__dir__',\n",
       " '__doc__',\n",
       " '__eq__',\n",
       " '__format__',\n",
       " '__ge__',\n",
       " '__getattribute__',\n",
       " '__getitem__',\n",
       " '__getnewargs__',\n",
       " '__getstate__',\n",
       " '__gt__',\n",
       " '__hash__',\n",
       " '__init__',\n",
       " '__init_subclass__',\n",
       " '__iter__',\n",
       " '__le__',\n",
       " '__len__',\n",
       " '__lt__',\n",
       " '__mod__',\n",
       " '__mul__',\n",
       " '__ne__',\n",
       " '__new__',\n",
       " '__reduce__',\n",
       " '__reduce_ex__',\n",
       " '__repr__',\n",
       " '__rmod__',\n",
       " '__rmul__',\n",
       " '__setattr__',\n",
       " '__sizeof__',\n",
       " '__str__',\n",
       " '__subclasshook__',\n",
       " 'capitalize',\n",
       " 'casefold',\n",
       " 'center',\n",
       " 'count',\n",
       " 'encode',\n",
       " 'endswith',\n",
       " 'expandtabs',\n",
       " 'find',\n",
       " 'format',\n",
       " 'format_map',\n",
       " 'index',\n",
       " 'isalnum',\n",
       " 'isalpha',\n",
       " 'isascii',\n",
       " 'isdecimal',\n",
       " 'isdigit',\n",
       " 'isidentifier',\n",
       " 'islower',\n",
       " 'isnumeric',\n",
       " 'isprintable',\n",
       " 'isspace',\n",
       " 'istitle',\n",
       " 'isupper',\n",
       " 'join',\n",
       " 'ljust',\n",
       " 'lower',\n",
       " 'lstrip',\n",
       " 'maketrans',\n",
       " 'partition',\n",
       " 'removeprefix',\n",
       " 'removesuffix',\n",
       " 'replace',\n",
       " 'rfind',\n",
       " 'rindex',\n",
       " 'rjust',\n",
       " 'rpartition',\n",
       " 'rsplit',\n",
       " 'rstrip',\n",
       " 'split',\n",
       " 'splitlines',\n",
       " 'startswith',\n",
       " 'strip',\n",
       " 'swapcase',\n",
       " 'title',\n",
       " 'translate',\n",
       " 'upper',\n",
       " 'zfill']"
      ]
     },
     "execution_count": 20,
     "metadata": {},
     "output_type": "execute_result"
    }
   ],
   "source": [
    "dir(str)"
   ]
  },
  {
   "cell_type": "code",
   "execution_count": 21,
   "metadata": {},
   "outputs": [],
   "source": [
    "# lets see how magic/ dunder methods work in background\n",
    "\n",
    "a = 100\n"
   ]
  },
  {
   "cell_type": "code",
   "execution_count": 22,
   "metadata": {},
   "outputs": [
    {
     "data": {
      "text/plain": [
       "105"
      ]
     },
     "execution_count": 22,
     "metadata": {},
     "output_type": "execute_result"
    }
   ],
   "source": [
    "a+5"
   ]
  },
  {
   "cell_type": "code",
   "execution_count": 23,
   "metadata": {},
   "outputs": [
    {
     "data": {
      "text/plain": [
       "105"
      ]
     },
     "execution_count": 23,
     "metadata": {},
     "output_type": "execute_result"
    }
   ],
   "source": [
    "# in back ground of a+5 it looks something like this by calling __add__ dunder method\n",
    "a.__add__(5)"
   ]
  },
  {
   "cell_type": "code",
   "execution_count": 24,
   "metadata": {},
   "outputs": [],
   "source": [
    "# So it is advised to not call these methods\n",
    "\n",
    "# now lets see frequently used dunder method __init__ , how it works.  \n",
    "# Does any other dunder method initiates before it?\n",
    "\n",
    "class students:\n",
    "    \n",
    "    def __new__(cls):\n",
    "        print('this is my new')\n",
    "\n",
    "    def __init__(self):\n",
    "        self.name = 'Abhishek Jain'\n",
    "    \n"
   ]
  },
  {
   "cell_type": "code",
   "execution_count": 25,
   "metadata": {},
   "outputs": [
    {
     "name": "stdout",
     "output_type": "stream",
     "text": [
      "this is my new\n"
     ]
    }
   ],
   "source": [
    "st = students()\n",
    "\n",
    "# As we see even before __init__ , __new__ dunder methos is called "
   ]
  },
  {
   "cell_type": "code",
   "execution_count": 26,
   "metadata": {},
   "outputs": [],
   "source": [
    "# lets see another example of __str__ dunder method\n",
    "\n",
    "class students1:\n",
    "    \n",
    "    def __init__(self):\n",
    "        self.name = 'Abhishek Jain'\n",
    "\n",
    "    def __str__(cls):\n",
    "        print(\"This is my magic call of str\")"
   ]
  },
  {
   "cell_type": "code",
   "execution_count": 27,
   "metadata": {},
   "outputs": [],
   "source": [
    "st1 = students1()"
   ]
  },
  {
   "cell_type": "code",
   "execution_count": 28,
   "metadata": {},
   "outputs": [
    {
     "data": {
      "text/plain": [
       "<__main__.students1 at 0x11348a250>"
      ]
     },
     "execution_count": 28,
     "metadata": {},
     "output_type": "execute_result"
    }
   ],
   "source": [
    "st1"
   ]
  },
  {
   "cell_type": "code",
   "execution_count": 29,
   "metadata": {},
   "outputs": [
    {
     "name": "stdout",
     "output_type": "stream",
     "text": [
      "This is my magic call of str\n"
     ]
    },
    {
     "ename": "TypeError",
     "evalue": "__str__ returned non-string (type NoneType)",
     "output_type": "error",
     "traceback": [
      "\u001b[0;31m---------------------------------------------------------------------------\u001b[0m",
      "\u001b[0;31mTypeError\u001b[0m                                 Traceback (most recent call last)",
      "Cell \u001b[0;32mIn[29], line 1\u001b[0m\n\u001b[0;32m----> 1\u001b[0m \u001b[39mprint\u001b[39;49m(st1)\n",
      "\u001b[0;31mTypeError\u001b[0m: __str__ returned non-string (type NoneType)"
     ]
    }
   ],
   "source": [
    "print(st1)"
   ]
  },
  {
   "cell_type": "code",
   "execution_count": 60,
   "metadata": {},
   "outputs": [],
   "source": [
    "# Property Decorators : Getters, Setters and Deteters\n",
    "\n",
    "# You can access instance attributes exactly as if they were public attributes while using the \"magic\" of intermediaries \n",
    "# (getters and setters) to validate new values and to avoid accessing or modifying the data directly.\n",
    "\n",
    "class ds_course:\n",
    "    def __init__(self,price,name):\n",
    "        self.__price = price # double underscore means private nad single means protected\n",
    "        self.name = name\n",
    "    @property\n",
    "    def course_price_acess(self):\n",
    "        return self.__price\n",
    "    @course_price_acess.setter\n",
    "    def course_price_set(self,course_price):\n",
    "        if course_price <= 3500:\n",
    "            pass\n",
    "        else:\n",
    "            self.__price = course_price\n",
    "    @course_price_acess.deleter\n",
    "    def course_price_delter(self):\n",
    "        del self.__price\n",
    " "
   ]
  },
  {
   "cell_type": "code",
   "execution_count": 61,
   "metadata": {},
   "outputs": [],
   "source": [
    "ds = ds_course(3500,'DS MAsters')"
   ]
  },
  {
   "cell_type": "code",
   "execution_count": 62,
   "metadata": {},
   "outputs": [
    {
     "data": {
      "text/plain": [
       "3500"
      ]
     },
     "execution_count": 62,
     "metadata": {},
     "output_type": "execute_result"
    }
   ],
   "source": [
    "ds.course_price_acess"
   ]
  },
  {
   "cell_type": "code",
   "execution_count": 58,
   "metadata": {},
   "outputs": [],
   "source": [
    "# set course price even if it was protected by the help of property decorator\n",
    "\n",
    "ds.course_price_set = 4500"
   ]
  },
  {
   "cell_type": "code",
   "execution_count": 59,
   "metadata": {},
   "outputs": [
    {
     "data": {
      "text/plain": [
       "4500"
      ]
     },
     "execution_count": 59,
     "metadata": {},
     "output_type": "execute_result"
    }
   ],
   "source": [
    "ds.course_price_acess"
   ]
  },
  {
   "cell_type": "code",
   "execution_count": 63,
   "metadata": {},
   "outputs": [],
   "source": [
    "# delete the price by the help of property decorator even if it was protected\n",
    "\n",
    "del ds.course_price_delter"
   ]
  },
  {
   "cell_type": "code",
   "execution_count": 64,
   "metadata": {},
   "outputs": [
    {
     "ename": "AttributeError",
     "evalue": "'ds_course' object has no attribute '_ds_course__price'",
     "output_type": "error",
     "traceback": [
      "\u001b[0;31m---------------------------------------------------------------------------\u001b[0m",
      "\u001b[0;31mAttributeError\u001b[0m                            Traceback (most recent call last)",
      "Cell \u001b[0;32mIn[64], line 1\u001b[0m\n\u001b[0;32m----> 1\u001b[0m ds\u001b[39m.\u001b[39;49mcourse_price_acess\n",
      "Cell \u001b[0;32mIn[60], line 12\u001b[0m, in \u001b[0;36mds_course.course_price_acess\u001b[0;34m(self)\u001b[0m\n\u001b[1;32m     10\u001b[0m \u001b[39m@property\u001b[39m\n\u001b[1;32m     11\u001b[0m \u001b[39mdef\u001b[39;00m \u001b[39mcourse_price_acess\u001b[39m(\u001b[39mself\u001b[39m):\n\u001b[0;32m---> 12\u001b[0m     \u001b[39mreturn\u001b[39;00m \u001b[39mself\u001b[39;49m\u001b[39m.\u001b[39;49m__price\n",
      "\u001b[0;31mAttributeError\u001b[0m: 'ds_course' object has no attribute '_ds_course__price'"
     ]
    }
   ],
   "source": [
    "ds.course_price_acess"
   ]
  },
  {
   "cell_type": "code",
   "execution_count": null,
   "metadata": {},
   "outputs": [],
   "source": []
  }
 ],
 "metadata": {
  "kernelspec": {
   "display_name": "Python 3",
   "language": "python",
   "name": "python3"
  },
  "language_info": {
   "codemirror_mode": {
    "name": "ipython",
    "version": 3
   },
   "file_extension": ".py",
   "mimetype": "text/x-python",
   "name": "python",
   "nbconvert_exporter": "python",
   "pygments_lexer": "ipython3",
   "version": "3.11.2"
  },
  "orig_nbformat": 4,
  "vscode": {
   "interpreter": {
    "hash": "aee8b7b246df8f9039afb4144a1f6fd8d2ca17a180786b69acc140d282b71a49"
   }
  }
 },
 "nbformat": 4,
 "nbformat_minor": 2
}
