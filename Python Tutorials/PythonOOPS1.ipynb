{
 "cells": [
  {
   "cell_type": "code",
   "execution_count": 1,
   "metadata": {},
   "outputs": [],
   "source": [
    "# OOPS (Object Oriented Programing)\n",
    "# Class : Its a blueprint\n",
    "# Variable/Object : Instance of the class\n",
    "\n",
    "class classroom:\n",
    "    def __init__(self,phone_number,email,student_id): #__init__ is a constructor to pass arguments to teh class\n",
    "        self.phone_number = phone_number\n",
    "        self.email = email\n",
    "        self.student_id = student_id\n",
    "    \n",
    "    def return_student_details(self):\n",
    "\n",
    "        return self.phone_number,self.email,self.student_id\n"
   ]
  },
  {
   "cell_type": "code",
   "execution_count": 2,
   "metadata": {},
   "outputs": [],
   "source": [
    "# create an instance of class classroom named rohan\n",
    "\n",
    "rohan = classroom(989995858,\"rohan@gmail.com\",552)"
   ]
  },
  {
   "cell_type": "code",
   "execution_count": 6,
   "metadata": {},
   "outputs": [
    {
     "data": {
      "text/plain": [
       "(989995858, 'rohan@gmail.com', 552)"
      ]
     },
     "execution_count": 6,
     "metadata": {},
     "output_type": "execute_result"
    }
   ],
   "source": [
    "#call function return_student_details of the class for instance rohan\n",
    "\n",
    "rohan.return_student_details()"
   ]
  },
  {
   "cell_type": "code",
   "execution_count": 1,
   "metadata": {},
   "outputs": [],
   "source": [
    "# Polymorphism : A single entity with multiple behaviour in various situations\n",
    "# eg - A same person can have different relationship status with different people related to him\n",
    "\n",
    "def test(a,b):\n",
    "    return a+b"
   ]
  },
  {
   "cell_type": "code",
   "execution_count": 2,
   "metadata": {},
   "outputs": [
    {
     "data": {
      "text/plain": [
       "12"
      ]
     },
     "execution_count": 2,
     "metadata": {},
     "output_type": "execute_result"
    }
   ],
   "source": [
    "# when we pass integer function does addition\n",
    "test(5,7)"
   ]
  },
  {
   "cell_type": "code",
   "execution_count": 3,
   "metadata": {},
   "outputs": [
    {
     "data": {
      "text/plain": [
       "'AbhishekJain'"
      ]
     },
     "execution_count": 3,
     "metadata": {},
     "output_type": "execute_result"
    }
   ],
   "source": [
    "# but when we pass string it concatenates thus showing polymorphism\n",
    "test(\"Abhishek\",\"Jain\")"
   ]
  },
  {
   "cell_type": "code",
   "execution_count": 4,
   "metadata": {},
   "outputs": [
    {
     "name": "stdout",
     "output_type": "stream",
     "text": [
      "This is Data Science Syllabus\n",
      "This is Web Dev syllabus\n"
     ]
    }
   ],
   "source": [
    "# Example of polymorphism where syllabus function has different behavior for different class\n",
    "\n",
    "class data_science:\n",
    "    def syllabus(self):\n",
    "        print(\"This is Data Science Syllabus\")\n",
    "\n",
    "class web_dev:\n",
    "    def syllabus(self):\n",
    "        print(\"This is Web Dev syllabus\")\n",
    "\n",
    "def class_parcer(class_object):\n",
    "    for i in class_object:\n",
    "        i.syllabus()\n",
    "\n",
    "data_science = data_science()\n",
    "web_dev = web_dev()\n",
    "\n",
    "class_object = [data_science,web_dev]\n",
    "\n",
    "class_parcer(class_object)\n"
   ]
  },
  {
   "cell_type": "code",
   "execution_count": 6,
   "metadata": {},
   "outputs": [],
   "source": [
    "# Encapsulation: It describes the idea of wrapping data and the methods that work on data within one unit.\n",
    "# This puts restrictions on accessing variables and methods directly and can prevent the accidental modification\n",
    "# of data.\n",
    "\n",
    "class test:\n",
    "    def __init__(self,a,b):\n",
    "        self.a = a\n",
    "        self.b = b\n"
   ]
  },
  {
   "cell_type": "code",
   "execution_count": 7,
   "metadata": {},
   "outputs": [],
   "source": [
    "t = test(23,34)"
   ]
  },
  {
   "cell_type": "code",
   "execution_count": 8,
   "metadata": {},
   "outputs": [],
   "source": [
    "t.a = 23456 #Variable available to modify"
   ]
  },
  {
   "cell_type": "code",
   "execution_count": 9,
   "metadata": {},
   "outputs": [
    {
     "data": {
      "text/plain": [
       "23456"
      ]
     },
     "execution_count": 9,
     "metadata": {},
     "output_type": "execute_result"
    }
   ],
   "source": [
    "t.a #Now its updated from 23 to 23456"
   ]
  },
  {
   "cell_type": "code",
   "execution_count": 10,
   "metadata": {},
   "outputs": [],
   "source": [
    "# Example of Encapsulation\n",
    "class car:\n",
    "    def __init__(self,model,year,speed):\n",
    "        self.__model = model\n",
    "        self.__year = year\n",
    "        self.__speed = speed\n",
    "    \n",
    "c = car(\"Innova\",2014,200)"
   ]
  },
  {
   "cell_type": "code",
   "execution_count": 11,
   "metadata": {},
   "outputs": [
    {
     "ename": "AttributeError",
     "evalue": "'car' object has no attribute '__model'",
     "output_type": "error",
     "traceback": [
      "\u001b[0;31m---------------------------------------------------------------------------\u001b[0m",
      "\u001b[0;31mAttributeError\u001b[0m                            Traceback (most recent call last)",
      "Cell \u001b[0;32mIn[11], line 1\u001b[0m\n\u001b[0;32m----> 1\u001b[0m c\u001b[39m.\u001b[39;49m__model\n",
      "\u001b[0;31mAttributeError\u001b[0m: 'car' object has no attribute '__model'"
     ]
    }
   ],
   "source": [
    "c.__model # It will show error as we have encapsulated the variable using __(double underscore) in front \n",
    "          # of ARGUMENT"
   ]
  },
  {
   "cell_type": "code",
   "execution_count": 12,
   "metadata": {},
   "outputs": [],
   "source": [
    "# in order to change any of the variable we need to define new function\n",
    "\n",
    "class car:\n",
    "    def __init__(self,model,year,speed):\n",
    "        self.__model = model\n",
    "        self.__year = year\n",
    "        self.__speed = speed\n",
    "    def set_speed(self,speed):\n",
    "        self.__speed = 0 if speed<0 else speed\n",
    "    def get_speed(self):\n",
    "        return self.__speed\n",
    "\n"
   ]
  },
  {
   "cell_type": "code",
   "execution_count": 13,
   "metadata": {},
   "outputs": [],
   "source": [
    "c = car(\"Land Rover\",2022,300)"
   ]
  },
  {
   "cell_type": "code",
   "execution_count": 15,
   "metadata": {},
   "outputs": [],
   "source": [
    "# We can only change speed using set_speed function \n",
    "c.set_speed(330)"
   ]
  },
  {
   "cell_type": "code",
   "execution_count": 16,
   "metadata": {},
   "outputs": [
    {
     "data": {
      "text/plain": [
       "330"
      ]
     },
     "execution_count": 16,
     "metadata": {},
     "output_type": "execute_result"
    }
   ],
   "source": [
    "# We can now access the speed using the other function we have defined get_speed\n",
    "c.get_speed()"
   ]
  },
  {
   "cell_type": "code",
   "execution_count": 19,
   "metadata": {},
   "outputs": [
    {
     "data": {
      "text/plain": [
       "'Land Rover'"
      ]
     },
     "execution_count": 19,
     "metadata": {},
     "output_type": "execute_result"
    }
   ],
   "source": [
    "# We can only access variables of class that are encapsulated using _CLASS__VARIABLE\n",
    "c._car__model"
   ]
  },
  {
   "cell_type": "code",
   "execution_count": 20,
   "metadata": {},
   "outputs": [
    {
     "data": {
      "text/plain": [
       "330"
      ]
     },
     "execution_count": 20,
     "metadata": {},
     "output_type": "execute_result"
    }
   ],
   "source": [
    "c._car__speed"
   ]
  },
  {
   "cell_type": "code",
   "execution_count": 24,
   "metadata": {},
   "outputs": [],
   "source": [
    "# Another example of encapsulation where we update bank account balance\n",
    "\n",
    "class bank_account:\n",
    "    \n",
    "    def __init__(self,balance):\n",
    "        self.__balance = balance # balance is encapsulated here\n",
    "    \n",
    "    def deposit(self,amount):\n",
    "        self.__balance = self.__balance + amount\n",
    "    \n",
    "    def withdraw(self,amount):\n",
    "        if self.__balance>=amount: \n",
    "            self.__balance = self.__balance - amount\n",
    "            return True\n",
    "        else:\n",
    "            return False\n",
    "                \n",
    "    def get_balance(self):\n",
    "        return self.__balance\n"
   ]
  },
  {
   "cell_type": "code",
   "execution_count": 25,
   "metadata": {},
   "outputs": [],
   "source": [
    "b = bank_account(1000)"
   ]
  },
  {
   "cell_type": "code",
   "execution_count": 26,
   "metadata": {},
   "outputs": [
    {
     "data": {
      "text/plain": [
       "1000"
      ]
     },
     "execution_count": 26,
     "metadata": {},
     "output_type": "execute_result"
    }
   ],
   "source": [
    "b.get_balance()"
   ]
  },
  {
   "cell_type": "code",
   "execution_count": 27,
   "metadata": {},
   "outputs": [],
   "source": [
    "b.deposit(2000)"
   ]
  },
  {
   "cell_type": "code",
   "execution_count": 28,
   "metadata": {},
   "outputs": [
    {
     "data": {
      "text/plain": [
       "3000"
      ]
     },
     "execution_count": 28,
     "metadata": {},
     "output_type": "execute_result"
    }
   ],
   "source": [
    "b.get_balance()"
   ]
  },
  {
   "cell_type": "code",
   "execution_count": 30,
   "metadata": {},
   "outputs": [
    {
     "data": {
      "text/plain": [
       "5000"
      ]
     },
     "execution_count": 30,
     "metadata": {},
     "output_type": "execute_result"
    }
   ],
   "source": [
    "b.deposit(1000)\n",
    "b.get_balance()"
   ]
  },
  {
   "cell_type": "code",
   "execution_count": 32,
   "metadata": {},
   "outputs": [
    {
     "data": {
      "text/plain": [
       "500"
      ]
     },
     "execution_count": 32,
     "metadata": {},
     "output_type": "execute_result"
    }
   ],
   "source": [
    "b.withdraw(4500)\n",
    "b.get_balance()"
   ]
  },
  {
   "cell_type": "code",
   "execution_count": 3,
   "metadata": {},
   "outputs": [],
   "source": [
    "# Inheritance: Inheritance allows us to define a class that inherits all the methods and properties\n",
    "# from another class. \n",
    "# Parent class is the class being inherited from, also called base class.\n",
    "# Child class is the class that inherits from another class, also called derived class.\n",
    "\n",
    "class parent:\n",
    "    def parent_msg(self):\n",
    "        print(\"This is parent class calling\")\n",
    "class child(parent): # we have inherited the parent class to child class\n",
    "    def child_msg(self):\n",
    "        print(\"This is child class calling\")\n",
    "\n"
   ]
  },
  {
   "cell_type": "code",
   "execution_count": 4,
   "metadata": {},
   "outputs": [],
   "source": [
    "# create an object of child class\n",
    "c = child()"
   ]
  },
  {
   "cell_type": "code",
   "execution_count": 5,
   "metadata": {},
   "outputs": [
    {
     "name": "stdout",
     "output_type": "stream",
     "text": [
      "This is parent class calling\n"
     ]
    }
   ],
   "source": [
    "# object c of child class can access functions of parent class as well due to inheritance\n",
    "c.parent_msg()"
   ]
  },
  {
   "cell_type": "code",
   "execution_count": 6,
   "metadata": {},
   "outputs": [
    {
     "name": "stdout",
     "output_type": "stream",
     "text": [
      "This is child class calling\n"
     ]
    }
   ],
   "source": [
    "c.child_msg()"
   ]
  },
  {
   "cell_type": "code",
   "execution_count": 7,
   "metadata": {},
   "outputs": [],
   "source": [
    "# Multi Level Inheritance: when a derived class inherits properties from a base class, and then another\n",
    "# class inherits from that derived class.\n",
    "\n",
    "class grandfather:\n",
    "    def grandfather_msg(self):\n",
    "        print(\"I am grand father with age 60\")\n",
    "class son(grandfather):\n",
    "    def son_msg():\n",
    "        print(\"I am son of age 40\")\n",
    "class grandson(son):\n",
    "    def grandson_msg(self):\n",
    "        print(\"I am grandson with age 15\")"
   ]
  },
  {
   "cell_type": "code",
   "execution_count": 8,
   "metadata": {},
   "outputs": [],
   "source": [
    "g = grandson()"
   ]
  },
  {
   "cell_type": "code",
   "execution_count": 9,
   "metadata": {},
   "outputs": [
    {
     "name": "stdout",
     "output_type": "stream",
     "text": [
      "I am grand father with age 60\n"
     ]
    }
   ],
   "source": [
    "# We can see grandson has indirectly inherited from grandfather class because the class it inherited from i.e. son\n",
    "# has inherited from grandfather class\n",
    "g.grandfather_msg()"
   ]
  },
  {
   "cell_type": "code",
   "execution_count": 15,
   "metadata": {},
   "outputs": [],
   "source": [
    "# Another example of Multi Level Inheritance\n",
    "class grandfather:\n",
    "    def grandfather_msg(self):\n",
    "        print(\"I am grand father with age 60\")\n",
    "class son:\n",
    "    def son_msg(self):\n",
    "        print(\"I am son of age 40\")\n",
    "class grandson(son,grandfather):\n",
    "    def grandson_msg(self):\n",
    "        print(\"I am grandson with age 15\")"
   ]
  },
  {
   "cell_type": "code",
   "execution_count": 18,
   "metadata": {},
   "outputs": [],
   "source": [
    "c = grandson()"
   ]
  },
  {
   "cell_type": "code",
   "execution_count": 12,
   "metadata": {},
   "outputs": [
    {
     "name": "stdout",
     "output_type": "stream",
     "text": [
      "I am grand father with age 60\n"
     ]
    }
   ],
   "source": [
    "c.grandfather_msg()"
   ]
  },
  {
   "cell_type": "code",
   "execution_count": 16,
   "metadata": {},
   "outputs": [
    {
     "name": "stdout",
     "output_type": "stream",
     "text": [
      "I am grandson with age 15\n"
     ]
    }
   ],
   "source": [
    "c.grandson_msg()"
   ]
  },
  {
   "cell_type": "code",
   "execution_count": 19,
   "metadata": {},
   "outputs": [
    {
     "name": "stdout",
     "output_type": "stream",
     "text": [
      "I am son of age 40\n"
     ]
    }
   ],
   "source": [
    "c.son_msg()"
   ]
  },
  {
   "cell_type": "code",
   "execution_count": 20,
   "metadata": {},
   "outputs": [],
   "source": [
    "# Abstraction : It is defined as a process of handling complexity by hiding unnecessary information \n",
    "# from the user. This is one of the core concepts of object-oriented programming (OOP) languages. That enables\n",
    "# the user to implement even more complex logic on top of the provided abstraction without understanding or\n",
    "# even thinking about all the hidden background/back-end complexity.\n",
    "\n",
    "# Abstract Classes:  An abstract class can be considered as a blueprint for other classes. It allows you to\n",
    "# create a set of methods that must be created within any child classes built from the abstract class.\n",
    "# A class which contains one or more abstract methods is called an abstract class\n",
    "\n",
    "# Import Abstract Base Classes Module (ABC)\n",
    "import abc\n",
    "class shape:\n",
    "    @abc.abstractmethod # Decorate with abstract method from ABC \n",
    "    def __init__(self,shapeType):\n",
    "        self.shapeType = shapeType\n",
    "    \n",
    "    @abc.abstractmethod # Decorate with abstract method from ABC \n",
    "    def area(self):\n",
    "        pass\n",
    "    \n",
    "    @abc.abstractmethod # Decorate with abstract method from ABC \n",
    "    def perimeter(self):\n",
    "        pass\n",
    "\n",
    "class rectangle(shape):\n",
    "    def __init__(self,length,breadth):\n",
    "        shape.__init__(self,'Rectangle')\n",
    "        self.length = length\n",
    "        self.breadth = breadth\n",
    "    def area(self): # Now we use the abstract method we created in abstract class as per our use in this class\n",
    "        return self.length * self.breadth\n",
    "    def perimeter(self): # Now we use the abstract method we created in abstract class as per our use in this class\n",
    "        return 2 * (self.length + self.breadth)\n",
    "\n",
    "class circle(shape):\n",
    "    pi = 3.14\n",
    "    def __init__(self,radius):\n",
    "        shape.__init__(self,'Circle')\n",
    "        self.radius = radius\n",
    "    def area(self): # Now we use the abstract method we created in abstract class as per our use in this class\n",
    "        return round(circle.pi * (self.radius**2),2)\n",
    "    def perimeter(self): # Now we use the abstract method we created in abstract class as per our use in this class\n",
    "        return round(2 * circle.pi * self.radius,2)\n",
    "\n",
    "\n",
    "    "
   ]
  },
  {
   "cell_type": "code",
   "execution_count": 21,
   "metadata": {},
   "outputs": [],
   "source": [
    "Rectangle  = rectangle(30,15)"
   ]
  },
  {
   "cell_type": "code",
   "execution_count": 23,
   "metadata": {},
   "outputs": [
    {
     "data": {
      "text/plain": [
       "450"
      ]
     },
     "execution_count": 23,
     "metadata": {},
     "output_type": "execute_result"
    }
   ],
   "source": [
    "Rectangle.area()"
   ]
  },
  {
   "cell_type": "code",
   "execution_count": 24,
   "metadata": {},
   "outputs": [
    {
     "data": {
      "text/plain": [
       "90"
      ]
     },
     "execution_count": 24,
     "metadata": {},
     "output_type": "execute_result"
    }
   ],
   "source": [
    "Rectangle.perimeter()"
   ]
  },
  {
   "cell_type": "code",
   "execution_count": 25,
   "metadata": {},
   "outputs": [],
   "source": [
    "Circle = circle(5)"
   ]
  },
  {
   "cell_type": "code",
   "execution_count": 26,
   "metadata": {},
   "outputs": [
    {
     "data": {
      "text/plain": [
       "78.5"
      ]
     },
     "execution_count": 26,
     "metadata": {},
     "output_type": "execute_result"
    }
   ],
   "source": [
    "Circle.area()"
   ]
  },
  {
   "cell_type": "code",
   "execution_count": 27,
   "metadata": {},
   "outputs": [
    {
     "data": {
      "text/plain": [
       "31.4"
      ]
     },
     "execution_count": 27,
     "metadata": {},
     "output_type": "execute_result"
    }
   ],
   "source": [
    "Circle.perimeter()"
   ]
  },
  {
   "cell_type": "code",
   "execution_count": 1,
   "metadata": {},
   "outputs": [],
   "source": [
    "## Decorators : Decorators allow us to wrap another function in order to extend the behaviour of the wrapped \n",
    "## function, without permanently modifying it.\n",
    "\n",
    "def deco(func):\n",
    "    def inner_dec():\n",
    "        print(\"this is start of function\")\n",
    "        func()\n",
    "        print(\"this is end of function\")\n",
    "    return inner_dec"
   ]
  },
  {
   "cell_type": "code",
   "execution_count": 2,
   "metadata": {},
   "outputs": [],
   "source": [
    "## When we use @DECORATORFUNCTIONNAME above the function we want it to apply, it will pass it in decorator function\n",
    "\n",
    "@deco     \n",
    "def test():\n",
    "    print(\"msg from test function\")\n"
   ]
  },
  {
   "cell_type": "code",
   "execution_count": 3,
   "metadata": {},
   "outputs": [
    {
     "name": "stdout",
     "output_type": "stream",
     "text": [
      "this is start of function\n",
      "msg from test function\n",
      "this is end of function\n"
     ]
    }
   ],
   "source": [
    "test()"
   ]
  },
  {
   "cell_type": "code",
   "execution_count": 4,
   "metadata": {},
   "outputs": [],
   "source": [
    "# Another example of decorator\n",
    "\n",
    "import time\n",
    "\n",
    "def timer_test(func):\n",
    "    def timer_test_inner():\n",
    "        start = time.time()\n",
    "        func()\n",
    "        end = time.time()\n",
    "        print(end - start)\n",
    "    return timer_test_inner\n",
    "\n",
    "@timer_test\n",
    "def test1():\n",
    "    print(123)\n"
   ]
  },
  {
   "cell_type": "code",
   "execution_count": 5,
   "metadata": {},
   "outputs": [
    {
     "name": "stdout",
     "output_type": "stream",
     "text": [
      "123\n",
      "4.8160552978515625e-05\n"
     ]
    }
   ],
   "source": [
    "test1()"
   ]
  },
  {
   "cell_type": "code",
   "execution_count": 8,
   "metadata": {},
   "outputs": [
    {
     "name": "stdout",
     "output_type": "stream",
     "text": [
      "0.012474775314331055\n"
     ]
    }
   ],
   "source": [
    "@timer_test\n",
    "def test3():\n",
    "    for i in range(100000):\n",
    "        pass\n",
    "test3()"
   ]
  },
  {
   "cell_type": "code",
   "execution_count": null,
   "metadata": {},
   "outputs": [],
   "source": []
  },
  {
   "cell_type": "code",
   "execution_count": null,
   "metadata": {},
   "outputs": [],
   "source": []
  }
 ],
 "metadata": {
  "kernelspec": {
   "display_name": "Python 3",
   "language": "python",
   "name": "python3"
  },
  "language_info": {
   "codemirror_mode": {
    "name": "ipython",
    "version": 3
   },
   "file_extension": ".py",
   "mimetype": "text/x-python",
   "name": "python",
   "nbconvert_exporter": "python",
   "pygments_lexer": "ipython3",
   "version": "3.11.2"
  },
  "orig_nbformat": 4,
  "vscode": {
   "interpreter": {
    "hash": "aee8b7b246df8f9039afb4144a1f6fd8d2ca17a180786b69acc140d282b71a49"
   }
  }
 },
 "nbformat": 4,
 "nbformat_minor": 2
}
