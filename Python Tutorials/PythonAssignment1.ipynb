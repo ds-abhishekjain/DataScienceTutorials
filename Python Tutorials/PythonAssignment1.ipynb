{
 "cells": [
  {
   "cell_type": "code",
   "execution_count": 21,
   "metadata": {},
   "outputs": [
    {
     "name": "stdout",
     "output_type": "stream",
     "text": [
      "['Krish', 'Abhishek', 'Sudhanshu', 'Van', 'Elon']\n",
      "['Naik', 'Jain', 'Sharma', 'Gossum', 'Musk']\n"
     ]
    }
   ],
   "source": [
    "# Q1. Explain with an example each when to use a for loop and a while loop.\n",
    "\n",
    "# Example of while loop to split first and last name from a list of full name\n",
    "\n",
    "# When to use While loops?\n",
    "# 1.You want to repeat a block of code based on a condition that may change during the loop execution.\n",
    "# 2. You want to control the loop flow such as using break and continue statements\n",
    "\n",
    "full_name = ['Krish Naik','Abhishek Jain','Sudhanshu Sharma','Van Gossum','Elon Musk']\n",
    "\n",
    "first_name = [] #Assign empty list to variable first_name \n",
    "last_name = [] #Assign empty list to variable last_name \n",
    "\n",
    "i = 0\n",
    "while i < len(full_name):\n",
    "\n",
    "    first_name.append(full_name[i].split(' ')[0])\n",
    "    last_name.append(full_name[i].split(' ')[-1])\n",
    "\n",
    "    i = i+1\n",
    "\n",
    "print(first_name)\n",
    "print(last_name)\n",
    "\n"
   ]
  },
  {
   "cell_type": "code",
   "execution_count": 22,
   "metadata": {},
   "outputs": [
    {
     "name": "stdout",
     "output_type": "stream",
     "text": [
      "User Authenticated\n"
     ]
    }
   ],
   "source": [
    "# Example of for loop to authenticate user name and password\n",
    "\n",
    "# When to use for loop?\n",
    "# You want to iterate over a sequence and you know the exact number of times the loop should iterate\n",
    "\n",
    "# dictionary containing keys as user name and values as password\n",
    "user_details  = {'abhishek' : 'Abhishek@222',\n",
    "                'krish' : 'DataScienceGod#123',\n",
    "                'sudhanshu' : 'DataGuru@78',\n",
    "                'elon' : 'SPACEx@21',\n",
    "                'van' : 'PythonGod@34'}\n",
    "\n",
    "def authenticate_user(user_name,password):\n",
    "\n",
    "    for user in user_details:\n",
    "        if user_name in user_details.keys():\n",
    "            if password == user_details[user_name]:\n",
    "                print('User Authenticated')\n",
    "                break\n",
    "            else:\n",
    "                print('Incorrect Password')\n",
    "            break\n",
    "        else:\n",
    "            print('Please Enter Correct Username')\n",
    "\n",
    "\n",
    "authenticate_user('sudhanshu','DataGuru@78')\n"
   ]
  },
  {
   "cell_type": "code",
   "execution_count": 23,
   "metadata": {},
   "outputs": [
    {
     "name": "stdout",
     "output_type": "stream",
     "text": [
      "Sum Of the elements in list_NN is 55\n",
      "Product of the elements in list_NN is 3628800\n"
     ]
    }
   ],
   "source": [
    "# Q2. Write a python program to print the sum and product of the first 10 natural numbers using for\n",
    "#     and while loop.\n",
    "\n",
    "# Using while loop\n",
    "\n",
    "list_NN = list(range(1,11,1))\n",
    "sum_list = 0\n",
    "product_list = 1\n",
    "i  = 0 \n",
    "while i < len(list_NN):\n",
    "    sum_list += list_NN[i]\n",
    "    product_list *= list_NN[i]\n",
    "    i = i+1\n",
    "\n",
    "print(\"Sum Of the elements in list_NN is \"+str(sum_list))\n",
    "print(\"Product of the elements in list_NN is \"+str(product_list))\n",
    "\n",
    "\n"
   ]
  },
  {
   "cell_type": "code",
   "execution_count": 24,
   "metadata": {},
   "outputs": [
    {
     "name": "stdout",
     "output_type": "stream",
     "text": [
      "Sum Of the elements in list_NN is 55\n",
      "Product of the elements in list_NN is 3628800\n"
     ]
    }
   ],
   "source": [
    "# Q2 Continued\n",
    "# Using for loop\n",
    "\n",
    "list_NN = list(range(1,11,1))\n",
    "sum_list = 0\n",
    "product_list = 1\n",
    "\n",
    "for num in list_NN:\n",
    "    sum_list += num\n",
    "    product_list *= num \n",
    "\n",
    "print(\"Sum Of the elements in list_NN is \"+str(sum_list))\n",
    "print(\"Product of the elements in list_NN is \"+str(product_list))"
   ]
  },
  {
   "cell_type": "code",
   "execution_count": 25,
   "metadata": {},
   "outputs": [
    {
     "data": {
      "text/plain": [
       "2250.0"
      ]
     },
     "execution_count": 25,
     "metadata": {},
     "output_type": "execute_result"
    }
   ],
   "source": [
    "# Q3. Create a python program to compute the electricity bill for a household.\n",
    "# The per-unit charges in rupees are as follows: For the first 100 units, the user will be charged Rs. 4.5 per\n",
    "# unit, for the next 100 units, the user will be charged Rs. 6 per unit, and for the next 100 units, the user will\n",
    "# be charged Rs. 10 per unit, After 300 units and above the user will be charged Rs. 20 per unit.\n",
    "\n",
    "# You are required to take the units of electricity consumed in a month from the user as input.\n",
    "\n",
    "# Your program must pass this test case: when the unit of electricity consumed by the user in a month is\n",
    "# 310, the total electricity bill should be 2250.\n",
    "\n",
    "def elec_bill(units_consumed):\n",
    "    \n",
    "    if units_consumed <= 100:\n",
    "        electricity_amount = units_consumed*4.5\n",
    "    elif units_consumed > 100 and units_consumed <= 200:\n",
    "        electricity_amount = (100*4.5) + (units_consumed-100)*6\n",
    "    elif units_consumed > 200 and units_consumed <= 300:\n",
    "        electricity_amount = (100*4.5) + (100*6) +(units_consumed-200)*10\n",
    "    else :\n",
    "        electricity_amount = (100*4.5) + (100*6) + (100*10) +(units_consumed-300)*20\n",
    "        electricity_amount = (100*4.5) + (100*6) + (100*10) +(units_consumed-300)*20\n",
    "    \n",
    "    return electricity_amount\n",
    "\n",
    "\n",
    "elec_bill(310)"
   ]
  },
  {
   "cell_type": "code",
   "execution_count": 26,
   "metadata": {},
   "outputs": [
    {
     "name": "stdout",
     "output_type": "stream",
     "text": [
      "[10, 20, 30, 40, 50, 60, 70, 80, 90]\n"
     ]
    }
   ],
   "source": [
    "# Q4. Create a list of numbers from 1 to 100. Use for loop and while loop to calculate the cube of each\n",
    "# number and if the cube of that number is divisible by 4 or 5 then append that number in a list and print\n",
    "# that list.\n",
    "\n",
    "list_NN = list(range(1,100))\n",
    "list_div4n5 = []\n",
    "\n",
    "for num in list_NN:\n",
    "    cube = num ** 3\n",
    "\n",
    "    if cube%4 == 0 and cube%5 == 0:\n",
    "        list_div4n5.append(num)\n",
    "print(list_div4n5)"
   ]
  },
  {
   "cell_type": "code",
   "execution_count": 37,
   "metadata": {},
   "outputs": [
    {
     "name": "stdout",
     "output_type": "stream",
     "text": [
      "Count of vowels: 12\n",
      "List of vowels found: ['I', 'a', 'o', 'e', 'o', 'e', 'a', 'a', 'a', 'i', 'e', 'i']\n"
     ]
    }
   ],
   "source": [
    "# Q5. Write a program to filter count vowels in the below-given string.\n",
    "# string = \"I want to become a data scientist\"\n",
    "\n",
    "string = \"I want to become a data scientist\"\n",
    "vowels = ['a','e','i','o','u','A','E','I','O','U']\n",
    "\n",
    "vowels_found = []\n",
    "i = 0\n",
    "\n",
    "while i < len(string):\n",
    "    if string[i] in vowels:\n",
    "        vowels_found.append(string[i])\n",
    "    i = i+1\n",
    "print(\"Count of vowels: \"+str(len(vowels_found)))\n",
    "print(\"List of vowels found: \"+str(vowels_found))"
   ]
  },
  {
   "cell_type": "code",
   "execution_count": null,
   "metadata": {},
   "outputs": [],
   "source": []
  },
  {
   "cell_type": "code",
   "execution_count": null,
   "metadata": {},
   "outputs": [],
   "source": []
  }
 ],
 "metadata": {
  "kernelspec": {
   "display_name": "Python 3",
   "language": "python",
   "name": "python3"
  },
  "language_info": {
   "codemirror_mode": {
    "name": "ipython",
    "version": 3
   },
   "file_extension": ".py",
   "mimetype": "text/x-python",
   "name": "python",
   "nbconvert_exporter": "python",
   "pygments_lexer": "ipython3",
   "version": "3.11.2"
  },
  "orig_nbformat": 4,
  "vscode": {
   "interpreter": {
    "hash": "aee8b7b246df8f9039afb4144a1f6fd8d2ca17a180786b69acc140d282b71a49"
   }
  }
 },
 "nbformat": 4,
 "nbformat_minor": 2
}
