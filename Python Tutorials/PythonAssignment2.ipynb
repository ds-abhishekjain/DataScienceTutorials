{
 "cells": [
  {
   "cell_type": "code",
   "execution_count": 7,
   "metadata": {},
   "outputs": [
    {
     "data": {
      "text/plain": [
       "[1, 3, 5, 7, 9, 11, 13, 15, 17, 19, 21, 23]"
      ]
     },
     "execution_count": 7,
     "metadata": {},
     "output_type": "execute_result"
    }
   ],
   "source": [
    "## Q1. Which keyword is used to create a function? Create a function to return a list of odd numbers in the\n",
    "## range of 1 to 25.\n",
    "\n",
    "def retOddFunc(list_nn):\n",
    "    list_odd = []\n",
    "    for i in list_nn:\n",
    "        if i%2 != 0:\n",
    "            list_odd.append(i)\n",
    "    return list_odd\n",
    "\n",
    "retOddFunc(list(range(1,25)))"
   ]
  },
  {
   "cell_type": "code",
   "execution_count": 15,
   "metadata": {},
   "outputs": [
    {
     "data": {
      "text/plain": [
       "3.0"
      ]
     },
     "execution_count": 15,
     "metadata": {},
     "output_type": "execute_result"
    }
   ],
   "source": [
    "# Q2. Why *args and **kwargs is used in some functions? Create a function each for *args and **kwargs\n",
    "# to demonstrate their use.\n",
    "\n",
    "# *args : In Python, *args is used to pass a variable number of arguments to a function.\n",
    "# The * (asterisk) operator is placed before the parameter name in the function definition,\n",
    "# and it allows the function to accept any number of positional arguments.\n",
    "\n",
    "# Use of *args\n",
    "\n",
    "# Write a Python function called calculate_average that takes a variable number of arguments as input \n",
    "# and returns the average of those numbers. The function should ignore any non-numeric arguments and \n",
    "# calculate the average of only the numeric arguments passed.\n",
    "\n",
    "def avg_calc(*args):\n",
    "    int_list=[]\n",
    "    for i in args:\n",
    "        if type(i) == int:\n",
    "            int_list.append(i)\n",
    "    avg = sum(int_list)/len(int_list)\n",
    "    return avg\n",
    "\n",
    "avg_calc(2,3,\"two\",5,2)\n"
   ]
  },
  {
   "cell_type": "code",
   "execution_count": 12,
   "metadata": {},
   "outputs": [
    {
     "data": {
      "text/plain": [
       "180"
      ]
     },
     "execution_count": 12,
     "metadata": {},
     "output_type": "execute_result"
    }
   ],
   "source": [
    "# Q2 Continued\n",
    "# *kwargs :**kwargs is a special syntax that allows you to pass a variable number of keyword arguments to\n",
    "# a function. The term \"kwargs\" stands for \"keyword arguments.\" It is used when you want to accept any\n",
    "# number of keyword arguments without specifying them individually.\n",
    "\n",
    "# Use of **kwargs\n",
    "\n",
    "# Problem: Create a function that calculates the total price of a shopping cart. The function should \n",
    "# accept a variable number of items along with their prices. The items are represented as keyword arguments,\n",
    "# where the key is the item name and the value is its price. The function should return the total price\n",
    "# of all the items in the shopping cart.\n",
    "\n",
    "\n",
    "def tot_price_shopping(**kwargs):\n",
    "    sum_list = sum(kwargs.values())\n",
    "    return sum_list\n",
    "\n",
    "tot_price_shopping(apple=50,orange=60,banana=70)\n"
   ]
  },
  {
   "cell_type": "code",
   "execution_count": 13,
   "metadata": {},
   "outputs": [
    {
     "data": {
      "text/plain": [
       "180"
      ]
     },
     "execution_count": 13,
     "metadata": {},
     "output_type": "execute_result"
    }
   ],
   "source": [
    "# Q2 Continued\n",
    "# Solving the same problem using for loop\n",
    "\n",
    "def tot_price_shopping(**kwargs):\n",
    "    tot_price = 0\n",
    "    for item,price in kwargs.items():\n",
    "        tot_price += price\n",
    "    return tot_price\n",
    "\n",
    "tot_price_shopping(apple=50,orange=60,banana=70)"
   ]
  },
  {
   "cell_type": "code",
   "execution_count": 15,
   "metadata": {},
   "outputs": [
    {
     "name": "stdout",
     "output_type": "stream",
     "text": [
      "2\n",
      "4\n",
      "6\n",
      "8\n",
      "10\n"
     ]
    }
   ],
   "source": [
    "# Q3. What is an iterator in python? Name the method used to initialise the iterator object and the method\n",
    "# used for iteration. Use these methods to print the first five elements of the given\n",
    "# list [2, 4, 6, 8, 10, 12, 14,16, 18, 20].\n",
    "\n",
    "# Iterator : In Python, an iterator is an object that represents a stream of data. It provides a way to\n",
    "# access the elements of a container (such as a list or a dictionary) one by one, without the need to\n",
    "# access the entire collection at once. Iterators are used to implement the iteration protocol in Python,\n",
    "# which allows objects to be iterated using a for loop or other looping constructs.\n",
    "\n",
    "my_list = [2, 4, 6, 8, 10, 12, 14,16, 18, 20]\n",
    "\n",
    "my_iter = iter(my_list) #create an iterator from the list\n",
    "\n",
    "for num in range(5):\n",
    "    num = next(my_iter) #use the next() function to retrieve each item from the iterator\n",
    "    print(num)"
   ]
  },
  {
   "cell_type": "code",
   "execution_count": 17,
   "metadata": {},
   "outputs": [
    {
     "name": "stdout",
     "output_type": "stream",
     "text": [
      "0\n",
      "1\n",
      "4\n",
      "9\n",
      "16\n"
     ]
    }
   ],
   "source": [
    "# Q4. What is a generator function in python? Why yield keyword is used? Give an example of a generator\n",
    "# function.\n",
    "\n",
    "# A generator function behaves like a regular function, but it generates a sequence of values lazily as \n",
    "# they are requested. Instead of computing and returning all the values at once, it generates one value \n",
    "# at a time and pauses its execution state using the yield keyword. The state of the function is saved,\n",
    "# and when the next value is requested, it resumes from where it left off.\n",
    "\n",
    "# Here's an example of a generator function that generates a sequence of square numbers:\n",
    "\n",
    "def square_generator(n):\n",
    "    for i in range(n):\n",
    "        yield i**2\n",
    "\n",
    "my_generator = square_generator(5)\n",
    "\n",
    "for num in my_generator:\n",
    "    print(num)\n",
    "\n"
   ]
  },
  {
   "cell_type": "code",
   "execution_count": 42,
   "metadata": {},
   "outputs": [
    {
     "name": "stdout",
     "output_type": "stream",
     "text": [
      "2\n",
      "3\n",
      "5\n",
      "7\n",
      "11\n",
      "13\n",
      "17\n",
      "19\n",
      "23\n",
      "29\n",
      "31\n",
      "37\n",
      "41\n",
      "43\n",
      "47\n",
      "53\n",
      "59\n",
      "61\n",
      "67\n",
      "71\n"
     ]
    }
   ],
   "source": [
    "# Q5. Create a generator function for prime numbers less than 1000. Use the next() method to print the\n",
    "# first 20 prime numbers.\n",
    "\n",
    "def is_prime(num):\n",
    "    if num < 2:\n",
    "        return False\n",
    "    for i in range(2, int(num ** 0.5) + 1):\n",
    "        if num % i == 0:\n",
    "            return False\n",
    "    return True\n",
    "\n",
    "def prime_generator(n):\n",
    "    prime_list = []\n",
    "    for num in range(2, n):\n",
    "        if is_prime(num):\n",
    "            prime_list.append(num)\n",
    "            yield num\n",
    "\n",
    "prime_gen = prime_generator(1000)\n",
    "\n",
    "for _ in range(20):\n",
    "    prime = next(prime_gen)\n",
    "    print(prime)"
   ]
  },
  {
   "cell_type": "code",
   "execution_count": 45,
   "metadata": {},
   "outputs": [
    {
     "name": "stdout",
     "output_type": "stream",
     "text": [
      "[0, 1, 1, 2, 3, 5, 8, 13, 21, 34, 55, 89, 144]\n"
     ]
    }
   ],
   "source": [
    "# Q6. Write a python program to print the first 10 Fibonacci numbers using a while loop.\n",
    "\n",
    "# Fibonacci series is a sequence of numbers in which each number is the sum of two preceding numbers.\n",
    "# It starts with 0,1\n",
    "\n",
    "fib_series = [0,1]\n",
    "i = 0\n",
    "while i <= 10:\n",
    "    n = fib_series[i] + fib_series[(i+1)]\n",
    "    fib_series.append(n)\n",
    "    i = i+1\n",
    "print(fib_series)    "
   ]
  },
  {
   "cell_type": "code",
   "execution_count": 46,
   "metadata": {},
   "outputs": [
    {
     "data": {
      "text/plain": [
       "['d', 'a', 't', 'a', 's', 'c', 'i', 'e', 'n', 'c', 'e']"
      ]
     },
     "execution_count": 46,
     "metadata": {},
     "output_type": "execute_result"
    }
   ],
   "source": [
    "# Q7. Write a List Comprehension to iterate through the given string: ‘datascience’.\n",
    "# Expected output: ['d', 'a', 't', 'a', 's', 'c', 'i', 'e','n','c','e']\n",
    "\n",
    "# What is Comprehension of list in Python? \n",
    "# It allows you to define and construct a new list by applying an expression or \n",
    "# transformation to each element of an existing iterable (such as a list, tuple, or string) while\n",
    "# optionally filtering the elements based on certain conditions.\n",
    "\n",
    "# syntax : new_list = [expression for item in iterable if condition]\n",
    "\n",
    "[i for i in 'datascience']"
   ]
  },
  {
   "cell_type": "code",
   "execution_count": 70,
   "metadata": {},
   "outputs": [
    {
     "data": {
      "text/plain": [
       "True"
      ]
     },
     "execution_count": 70,
     "metadata": {},
     "output_type": "execute_result"
    }
   ],
   "source": [
    "# Q8. Write a python program to check whether a given number is Palindrome or not using a while loop.\n",
    "\n",
    "def is_palindrome(number):\n",
    "    number_str = str(number)\n",
    "    reverse_number_str = number_str[::-1]\n",
    "\n",
    "    if number_str == reverse_number_str:\n",
    "        return True\n",
    "    else:\n",
    "        return False\n",
    "\n",
    "is_palindrome(12321)"
   ]
  },
  {
   "cell_type": "code",
   "execution_count": 71,
   "metadata": {},
   "outputs": [
    {
     "data": {
      "text/plain": [
       "[1,\n",
       " 3,\n",
       " 5,\n",
       " 7,\n",
       " 9,\n",
       " 11,\n",
       " 13,\n",
       " 15,\n",
       " 17,\n",
       " 19,\n",
       " 21,\n",
       " 23,\n",
       " 25,\n",
       " 27,\n",
       " 29,\n",
       " 31,\n",
       " 33,\n",
       " 35,\n",
       " 37,\n",
       " 39,\n",
       " 41,\n",
       " 43,\n",
       " 45,\n",
       " 47,\n",
       " 49,\n",
       " 51,\n",
       " 53,\n",
       " 55,\n",
       " 57,\n",
       " 59,\n",
       " 61,\n",
       " 63,\n",
       " 65,\n",
       " 67,\n",
       " 69,\n",
       " 71,\n",
       " 73,\n",
       " 75,\n",
       " 77,\n",
       " 79,\n",
       " 81,\n",
       " 83,\n",
       " 85,\n",
       " 87,\n",
       " 89,\n",
       " 91,\n",
       " 93,\n",
       " 95,\n",
       " 97,\n",
       " 99]"
      ]
     },
     "execution_count": 71,
     "metadata": {},
     "output_type": "execute_result"
    }
   ],
   "source": [
    "# Q9. Write a code to print odd numbers from 1 to 100 using list comprehension.\n",
    "# Note: Use a list comprehension to create a list from 1 to 100 and use another List comprehension \n",
    "# to filter out odd numbers.\n",
    "\n",
    "[i for i in range(1,101) if i%2 != 0]"
   ]
  },
  {
   "cell_type": "code",
   "execution_count": null,
   "metadata": {},
   "outputs": [],
   "source": []
  },
  {
   "cell_type": "code",
   "execution_count": null,
   "metadata": {},
   "outputs": [],
   "source": []
  }
 ],
 "metadata": {
  "kernelspec": {
   "display_name": "Python 3",
   "language": "python",
   "name": "python3"
  },
  "language_info": {
   "codemirror_mode": {
    "name": "ipython",
    "version": 3
   },
   "file_extension": ".py",
   "mimetype": "text/x-python",
   "name": "python",
   "nbconvert_exporter": "python",
   "pygments_lexer": "ipython3",
   "version": "3.11.2"
  },
  "orig_nbformat": 4,
  "vscode": {
   "interpreter": {
    "hash": "aee8b7b246df8f9039afb4144a1f6fd8d2ca17a180786b69acc140d282b71a49"
   }
  }
 },
 "nbformat": 4,
 "nbformat_minor": 2
}
